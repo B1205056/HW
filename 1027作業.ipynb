{
  "nbformat": 4,
  "nbformat_minor": 0,
  "metadata": {
    "colab": {
      "provenance": []
    },
    "kernelspec": {
      "name": "python3",
      "display_name": "Python 3"
    },
    "language_info": {
      "name": "python"
    }
  },
  "cells": [
    {
      "cell_type": "markdown",
      "source": [],
      "metadata": {
        "id": "rO6E_VdzEKGT"
      }
    },
    {
      "cell_type": "code",
      "execution_count": 5,
      "metadata": {
        "colab": {
          "base_uri": "https://localhost:8080/"
        },
        "id": "OevpkxAP90iT",
        "outputId": "b6820708-3f1e-4814-9795-50b7b349f5bf"
      },
      "outputs": [
        {
          "output_type": "stream",
          "name": "stdout",
          "text": [
            "\n",
            "您想查詢什麼？(藥方名稱/出典/處方/效能/適應症/退出查詢)：藥方名稱\n",
            "獨活寄生湯\n",
            "\n",
            "您想查詢什麼？(藥方名稱/出典/處方/效能/適應症/退出查詢)：出典\n",
            "獨活寄生湯的出典為:千金方\n",
            "\n",
            "您想查詢什麼？(藥方名稱/出典/處方/效能/適應症/退出查詢)：處方\n",
            "獨活寄生湯的處方為:\n",
            "獨活：3公克\n",
            "寄生：2公克\n",
            "杜仲：2公克\n",
            "牛膝：2公克\n",
            "細辛：2公克\n",
            "秦艽：2公克\n",
            "茯苓：2公克\n",
            "桂心：2公克\n",
            "防風：2公克\n",
            "川芎：2公克\n",
            "人參：2公克\n",
            "甘草：2公克\n",
            "當歸：2公克\n",
            "白芍：2公克\n",
            "生地黃：2公克\n",
            "總克數為：31公克\n",
            "\n",
            "您想查詢什麼？(藥方名稱/出典/處方/效能/適應症/退出查詢)：效能\n",
            "獨活寄生湯的效能是:祛風溼、止痹痛、補氣血\n",
            "\n",
            "您想查詢什麼？(藥方名稱/出典/處方/效能/適應症/退出查詢)：適應證\n",
            "輸入無效，請重新輸入。\n",
            "\n",
            "您想查詢什麼？(藥方名稱/出典/處方/效能/適應症/退出查詢)：適應症\n",
            "獨活寄生湯的適應症有:\n",
            "風寒濕痹\n",
            "腰膝冷痛\n",
            "腿足屈伸不利\n",
            "\n",
            "您想查詢什麼？(藥方名稱/出典/處方/效能/適應症/退出查詢)：退出查詢\n",
            "感謝使用，再見！\n"
          ]
        }
      ],
      "source": [
        "# 定義六味地黃丸的資料\n",
        "prescription = {\n",
        "    '名稱': '獨活寄生湯',\n",
        "    '出典': '千金方',\n",
        "    '處方': {\n",
        "        '獨活': 3,\n",
        "        '寄生': 2,\n",
        "        '杜仲': 2,\n",
        "        '牛膝': 2,\n",
        "        '細辛': 2,\n",
        "        '秦艽': 2,\n",
        "        '茯苓': 2,\n",
        "        '桂心': 2,\n",
        "        '防風': 2,\n",
        "        '川芎': 2,\n",
        "        '人參': 2,\n",
        "        '甘草': 2,\n",
        "        '當歸': 2,\n",
        "        '白芍': 2,\n",
        "        '生地黃': 2,\n",
        "    },\n",
        "    '效能': '祛風溼、止痹痛、補氣血',\n",
        "    '適應症': ['風寒濕痹', '腰膝冷痛', '腿足屈伸不利']\n",
        "}\n",
        "\n",
        "# 使用 while 迴圈提供查詢服務\n",
        "while True:\n",
        "    query = input(\"\\n您想查詢什麼？(藥方名稱/出典/處方/效能/適應症/退出查詢)：\")\n",
        "\n",
        "    if query == \"藥方名稱\":\n",
        "        print(f\"{prescription['名稱']}\")\n",
        "    elif query == \"出典\":\n",
        "        print(f\"{prescription['名稱']}的出典為:{prescription['出典']}\")\n",
        "    elif query == \"適應症\":\n",
        "        print(f\"{prescription['名稱']}的適應症有:\")\n",
        "        for symptom in prescription['適應症']:\n",
        "            print(symptom)\n",
        "    elif query == \"處方\":\n",
        "        total_weight = sum(prescription['處方'].values())\n",
        "        print(f\"{prescription['名稱']}的處方為:\")\n",
        "        for medicine, weight in prescription['處方'].items():\n",
        "            print(f\"{medicine}：{weight}公克\")\n",
        "        print(f\"總克數為：{total_weight}公克\")\n",
        "    elif query == \"效能\":\n",
        "        print(f\"{prescription['名稱']}的效能是:{prescription['效能']}\")\n",
        "    elif query == \"退出查詢\":\n",
        "        print(\"感謝使用，再見！\")\n",
        "        break\n",
        "    else:\n",
        "        print(\"輸入無效，請重新輸入。\")"
      ]
    }
  ]
}